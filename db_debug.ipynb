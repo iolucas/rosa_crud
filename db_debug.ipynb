{
 "cells": [
  {
   "cell_type": "code",
   "execution_count": 1,
   "metadata": {
    "collapsed": true
   },
   "outputs": [],
   "source": [
    "from pymongo import MongoClient\n",
    "import random"
   ]
  },
  {
   "cell_type": "code",
   "execution_count": 21,
   "metadata": {},
   "outputs": [
    {
     "data": {
      "text/plain": [
       "'C:\\\\Users\\\\Du0X\\\\Anaconda2\\\\envs\\\\rosabot\\\\Library\\\\bin;C:\\\\Users\\\\Du0X\\\\Anaconda2\\\\envs\\\\rosabot\\\\Library\\\\bin;C:\\\\Users\\\\Du0X\\\\Anaconda2\\\\envs\\\\rosabot\\\\Scripts;C:\\\\Users\\\\Du0X\\\\Anaconda2\\\\envs\\\\rosabot\\\\Library\\\\bin;C:\\\\Users\\\\Du0X\\\\Anaconda2\\\\envs\\\\rosabot;C:\\\\Users\\\\Du0X\\\\Anaconda2\\\\envs\\\\rosabot\\\\Library\\\\mingw-w64\\\\bin;C:\\\\Users\\\\Du0X\\\\Anaconda2\\\\envs\\\\rosabot\\\\Library\\\\usr\\\\bin;C:\\\\Users\\\\Du0X\\\\Anaconda2\\\\envs\\\\rosabot\\\\Library\\\\bin;C:\\\\Users\\\\Du0X\\\\Anaconda2\\\\envs\\\\rosabot\\\\Scripts;C:\\\\Program Files\\\\Common Files\\\\Microsoft Shared\\\\Windows Live;C:\\\\Program Files (x86)\\\\Common Files\\\\Microsoft Shared\\\\Windows Live;C:\\\\Program Files (x86)\\\\EasyPHP-DevServer-14.1VC11\\\\binaries\\\\php\\\\php_runningversion;C:\\\\Windows\\\\system32;C:\\\\Windows;C:\\\\Windows\\\\System32\\\\Wbem;C:\\\\Windows\\\\System32\\\\WindowsPowerShell\\\\v1.0\\\\;C:\\\\Windows\\\\system32\\\\config\\\\systemprofile\\\\.dnx\\\\bin;C:\\\\Program Files\\\\Microsoft DNX\\\\Dnvm\\\\;C:\\\\Program Files (x86)\\\\Windows Live\\\\Shared;C:\\\\Program Files (x86)\\\\CloudFoundry;C:\\\\Program Files (x86)\\\\MySQL\\\\MySQL Fabric 1.5 & MySQL Utilities 1.5\\\\;C:\\\\Program Files (x86)\\\\MySQL\\\\MySQL Fabric 1.5 & MySQL Utilities 1.5\\\\Doctrine extensions for PHP\\\\;C:\\\\Program Files (x86)\\\\Windows Kits\\\\10\\\\Windows Performance Toolkit\\\\;C:\\\\Program Files\\\\Git\\\\cmd;C:\\\\Program Files (x86)\\\\Skype\\\\Phone\\\\;C:\\\\Program Files\\\\CloudFoundry;C:\\\\ProgramData\\\\ComposerSetup\\\\bin;C:\\\\Program Files (x86)\\\\Brackets\\\\command;C:\\\\Program Files\\\\Microsoft SQL Server\\\\110\\\\Tools\\\\Binn\\\\;C:\\\\Program Files\\\\nodejs\\\\;C:\\\\Users\\\\Du0X\\\\Anaconda2;C:\\\\Users\\\\Du0X\\\\Anaconda2\\\\Scripts;C:\\\\Users\\\\Du0X\\\\Anaconda2\\\\Library\\\\bin;C:\\\\Users\\\\Du0X\\\\Anaconda3;C:\\\\Users\\\\Du0X\\\\Anaconda3\\\\Scripts;C:\\\\Users\\\\Du0X\\\\Anaconda3\\\\Library\\\\bin;C:\\\\Program Files\\\\PostgreSQL\\\\9.5\\\\bin;C:\\\\Program Files\\\\MongoDB\\\\Server\\\\3.2\\\\bin;C:\\\\Users\\\\Du0X\\\\apache-maven-3.3.9\\\\bin;C:\\\\Python34;C:\\\\opencv\\\\opencv2\\\\build\\\\bin;C:\\\\Program Files (x86)\\\\CMake\\\\bin;C:\\\\Python34\\\\Scripts;C:\\\\Program Files (x86)\\\\Microsoft VS Code\\\\bin;C:\\\\Users\\\\Du0X\\\\AppData\\\\Roaming\\\\Composer\\\\vendor\\\\bin;C:\\\\Program Files\\\\Docker Toolbox;C:\\\\opencv\\\\opencv2\\\\build\\\\x86\\\\vc11\\\\bin;C:\\\\Users\\\\Du0X\\\\AppData\\\\Roaming\\\\npm;C:\\\\Users\\\\Du0X\\\\AppData\\\\Local\\\\Google\\\\Cloud SDK\\\\google-cloud-sdk\\\\bin;C:\\\\Program Files\\\\heroku\\\\bin;C:\\\\Users\\\\Du0X\\\\AppData\\\\Local\\\\Programs\\\\Microsoft VS Code\\\\bin'"
      ]
     },
     "execution_count": 21,
     "metadata": {},
     "output_type": "execute_result"
    }
   ],
   "source": [
    "import os\n",
    "os.getenv(\"PATH\", 1)"
   ]
  },
  {
   "cell_type": "code",
   "execution_count": 2,
   "metadata": {
    "collapsed": true
   },
   "outputs": [],
   "source": [
    "client = MongoClient('localhost', 27017)"
   ]
  },
  {
   "cell_type": "code",
   "execution_count": 3,
   "metadata": {
    "collapsed": true
   },
   "outputs": [],
   "source": [
    "#banco = cliente.rosa_database\n",
    "db = client['rosa_database']"
   ]
  },
  {
   "cell_type": "code",
   "execution_count": 4,
   "metadata": {
    "collapsed": true
   },
   "outputs": [],
   "source": [
    "#album = banco.test_collection\n",
    "complaint = db['complaint']"
   ]
  },
  {
   "cell_type": "code",
   "execution_count": 15,
   "metadata": {},
   "outputs": [
    {
     "data": {
      "text/plain": [
       "[{'_id': 1, 'firstName': 'John', 'lastName': 'Doe', 'nome': 'lucas'},\n",
       " {'_id': 45965},\n",
       " {'_id': 39294},\n",
       " {'_id': 33140},\n",
       " {'_id': 0, 'nome': 'Novo nome'},\n",
       " {'_id': 2},\n",
       " {'_id': 7219},\n",
       " {'_id': 8205},\n",
       " {'_id': 1494},\n",
       " {'_id': 5967},\n",
       " {'_id': 4303},\n",
       " {'_id': 6693},\n",
       " {'_id': 9941},\n",
       " {'_id': 3054},\n",
       " {'_id': 3149},\n",
       " {'_id': 1219},\n",
       " {'_id': 68884},\n",
       " {'_id': 42325},\n",
       " {'_id': 92105},\n",
       " {'_id': 53153},\n",
       " {'_id': 71990},\n",
       " {'_id': 52239},\n",
       " {'_id': 12670},\n",
       " {'_id': 95651},\n",
       " {'_id': 97433},\n",
       " {'_id': 55372},\n",
       " {'_id': 17255},\n",
       " {'_id': 41041}]"
      ]
     },
     "execution_count": 15,
     "metadata": {},
     "output_type": "execute_result"
    }
   ],
   "source": [
    "list(complaint.find())"
   ]
  },
  {
   "cell_type": "code",
   "execution_count": 56,
   "metadata": {
    "scrolled": true
   },
   "outputs": [
    {
     "data": {
      "text/plain": [
       "1"
      ]
     },
     "execution_count": 56,
     "metadata": {},
     "output_type": "execute_result"
    }
   ],
   "source": [
    "complaint.insert_one({\"_id\": 1}).inserted_id"
   ]
  },
  {
   "cell_type": "code",
   "execution_count": null,
   "metadata": {},
   "outputs": [
    {
     "name": "stderr",
     "output_type": "stream",
     "text": [
      "ERROR:root:Internal Python error in the inspect module.\n",
      "Below is the traceback from this internal error.\n",
      "\n"
     ]
    },
    {
     "name": "stdout",
     "output_type": "stream",
     "text": [
      "Traceback (most recent call last):\n",
      "  File \"C:\\Users\\Du0X\\Anaconda2\\envs\\rosabot\\lib\\site-packages\\IPython\\core\\interactiveshell.py\", line 2862, in run_code\n",
      "    exec(code_obj, self.user_global_ns, self.user_ns)\n",
      "  File \"<ipython-input-64-94c4208bcb3a>\", line 13, in <module>\n",
      "    get_new_id()\n",
      "  File \"<ipython-input-64-94c4208bcb3a>\", line 6, in get_new_id\n",
      "    while complaint.find_one({\"_id\": random_id}):\n",
      "  File \"C:\\Users\\Du0X\\Anaconda2\\envs\\rosabot\\lib\\site-packages\\pymongo\\collection.py\", line 1262, in find_one\n",
      "    for result in cursor.limit(-1):\n",
      "  File \"C:\\Users\\Du0X\\Anaconda2\\envs\\rosabot\\lib\\site-packages\\pymongo\\cursor.py\", line 1189, in next\n",
      "    if len(self.__data) or self._refresh():\n",
      "  File \"C:\\Users\\Du0X\\Anaconda2\\envs\\rosabot\\lib\\site-packages\\pymongo\\cursor.py\", line 1104, in _refresh\n",
      "    self.__send_message(q)\n",
      "  File \"C:\\Users\\Du0X\\Anaconda2\\envs\\rosabot\\lib\\site-packages\\pymongo\\cursor.py\", line 931, in __send_message\n",
      "    operation, exhaust=self.__exhaust, address=self.__address)\n",
      "  File \"C:\\Users\\Du0X\\Anaconda2\\envs\\rosabot\\lib\\site-packages\\pymongo\\mongo_client.py\", line 1145, in _send_message_with_response\n",
      "    exhaust)\n",
      "  File \"C:\\Users\\Du0X\\Anaconda2\\envs\\rosabot\\lib\\site-packages\\pymongo\\mongo_client.py\", line 1156, in _reset_on_error\n",
      "    return func(*args, **kwargs)\n",
      "  File \"C:\\Users\\Du0X\\Anaconda2\\envs\\rosabot\\lib\\site-packages\\pymongo\\server.py\", line 106, in send_message_with_response\n",
      "    reply = sock_info.receive_message(request_id)\n",
      "  File \"C:\\Users\\Du0X\\Anaconda2\\envs\\rosabot\\lib\\site-packages\\pymongo\\pool.py\", line 612, in receive_message\n",
      "    self._raise_connection_failure(error)\n",
      "  File \"C:\\Users\\Du0X\\Anaconda2\\envs\\rosabot\\lib\\site-packages\\pymongo\\pool.py\", line 745, in _raise_connection_failure\n",
      "    raise error\n",
      "  File \"C:\\Users\\Du0X\\Anaconda2\\envs\\rosabot\\lib\\site-packages\\pymongo\\pool.py\", line 610, in receive_message\n",
      "    self.max_message_size)\n",
      "  File \"C:\\Users\\Du0X\\Anaconda2\\envs\\rosabot\\lib\\site-packages\\pymongo\\network.py\", line 173, in receive_message\n",
      "    _receive_data_on_socket(sock, 16))\n",
      "  File \"C:\\Users\\Du0X\\Anaconda2\\envs\\rosabot\\lib\\site-packages\\pymongo\\network.py\", line 232, in _receive_data_on_socket\n",
      "    chunk_length = sock.recv_into(mv[bytes_read:])\n",
      "KeyboardInterrupt\n",
      "\n",
      "During handling of the above exception, another exception occurred:\n",
      "\n",
      "Traceback (most recent call last):\n",
      "  File \"C:\\Users\\Du0X\\Anaconda2\\envs\\rosabot\\lib\\site-packages\\IPython\\core\\interactiveshell.py\", line 1806, in showtraceback\n",
      "    stb = value._render_traceback_()\n",
      "AttributeError: 'KeyboardInterrupt' object has no attribute '_render_traceback_'\n",
      "\n",
      "During handling of the above exception, another exception occurred:\n",
      "\n",
      "Traceback (most recent call last):\n",
      "  File \"C:\\Users\\Du0X\\Anaconda2\\envs\\rosabot\\lib\\genericpath.py\", line 19, in exists\n",
      "    os.stat(path)\n",
      "OSError: [WinError 123] The filename, directory name, or volume label syntax is incorrect: '<ipython-input-64-94c4208bcb3a>'\n",
      "\n",
      "During handling of the above exception, another exception occurred:\n",
      "\n",
      "Traceback (most recent call last):\n",
      "  File \"C:\\Users\\Du0X\\Anaconda2\\envs\\rosabot\\lib\\site-packages\\IPython\\core\\ultratb.py\", line 1090, in get_records\n",
      "    return _fixed_getinnerframes(etb, number_of_lines_of_context, tb_offset)\n",
      "  File \"C:\\Users\\Du0X\\Anaconda2\\envs\\rosabot\\lib\\site-packages\\IPython\\core\\ultratb.py\", line 311, in wrapped\n",
      "    return f(*args, **kwargs)\n",
      "  File \"C:\\Users\\Du0X\\Anaconda2\\envs\\rosabot\\lib\\site-packages\\IPython\\core\\ultratb.py\", line 345, in _fixed_getinnerframes\n",
      "    records = fix_frame_records_filenames(inspect.getinnerframes(etb, context))\n",
      "  File \"C:\\Users\\Du0X\\Anaconda2\\envs\\rosabot\\lib\\inspect.py\", line 1480, in getinnerframes\n",
      "    frameinfo = (tb.tb_frame,) + getframeinfo(tb, context)\n",
      "  File \"C:\\Users\\Du0X\\Anaconda2\\envs\\rosabot\\lib\\inspect.py\", line 1442, in getframeinfo\n",
      "    lines, lnum = findsource(frame)\n",
      "  File \"C:\\Users\\Du0X\\Anaconda2\\envs\\rosabot\\lib\\site-packages\\IPython\\core\\ultratb.py\", line 165, in findsource\n",
      "    file = getsourcefile(object) or getfile(object)\n",
      "  File \"C:\\Users\\Du0X\\Anaconda2\\envs\\rosabot\\lib\\inspect.py\", line 690, in getsourcefile\n",
      "    if os.path.exists(filename):\n",
      "  File \"C:\\Users\\Du0X\\Anaconda2\\envs\\rosabot\\lib\\genericpath.py\", line 19, in exists\n",
      "    os.stat(path)\n",
      "KeyboardInterrupt\n"
     ]
    },
    {
     "ename": "KeyboardInterrupt",
     "evalue": "",
     "output_type": "error",
     "traceback": [
      "\u001b[1;31m---------------------------------------------------------------------------\u001b[0m"
     ]
    },
    {
     "name": "stderr",
     "output_type": "stream",
     "text": [
      "ERROR:tornado.general:Uncaught exception, closing connection.\n",
      "Traceback (most recent call last):\n",
      "  File \"C:\\Users\\Du0X\\Anaconda2\\envs\\rosabot\\lib\\site-packages\\zmq\\eventloop\\zmqstream.py\", line 414, in _run_callback\n",
      "    callback(*args, **kwargs)\n",
      "  File \"C:\\Users\\Du0X\\Anaconda2\\envs\\rosabot\\lib\\site-packages\\tornado\\stack_context.py\", line 277, in null_wrapper\n",
      "    return fn(*args, **kwargs)\n",
      "  File \"C:\\Users\\Du0X\\Anaconda2\\envs\\rosabot\\lib\\site-packages\\ipykernel\\kernelbase.py\", line 283, in dispatcher\n",
      "    return self.dispatch_shell(stream, msg)\n",
      "  File \"C:\\Users\\Du0X\\Anaconda2\\envs\\rosabot\\lib\\site-packages\\ipykernel\\kernelbase.py\", line 235, in dispatch_shell\n",
      "    handler(stream, idents, msg)\n",
      "  File \"C:\\Users\\Du0X\\Anaconda2\\envs\\rosabot\\lib\\site-packages\\ipykernel\\kernelbase.py\", line 421, in execute_request\n",
      "    self._abort_queues()\n",
      "  File \"C:\\Users\\Du0X\\Anaconda2\\envs\\rosabot\\lib\\site-packages\\ipykernel\\kernelbase.py\", line 637, in _abort_queues\n",
      "    self._abort_queue(stream)\n",
      "  File \"C:\\Users\\Du0X\\Anaconda2\\envs\\rosabot\\lib\\site-packages\\ipykernel\\kernelbase.py\", line 662, in _abort_queue\n",
      "    poller.poll(50)\n",
      "  File \"C:\\Users\\Du0X\\Anaconda2\\envs\\rosabot\\lib\\site-packages\\zmq\\sugar\\poll.py\", line 99, in poll\n",
      "    return zmq_poll(self.sockets, timeout=timeout)\n",
      "  File \"zmq/backend/cython/_poll.pyx\", line 116, in zmq.backend.cython._poll.zmq_poll (zmq\\backend\\cython\\_poll.c:2036)\n",
      "  File \"zmq/backend/cython/checkrc.pxd\", line 12, in zmq.backend.cython.checkrc._check_rc (zmq\\backend\\cython\\_poll.c:2418)\n",
      "KeyboardInterrupt\n",
      "ERROR:tornado.general:Uncaught exception, closing connection.\n",
      "Traceback (most recent call last):\n",
      "  File \"C:\\Users\\Du0X\\Anaconda2\\envs\\rosabot\\lib\\site-packages\\zmq\\eventloop\\zmqstream.py\", line 440, in _handle_events\n",
      "    self._handle_recv()\n",
      "  File \"C:\\Users\\Du0X\\Anaconda2\\envs\\rosabot\\lib\\site-packages\\zmq\\eventloop\\zmqstream.py\", line 472, in _handle_recv\n",
      "    self._run_callback(callback, msg)\n",
      "  File \"C:\\Users\\Du0X\\Anaconda2\\envs\\rosabot\\lib\\site-packages\\zmq\\eventloop\\zmqstream.py\", line 414, in _run_callback\n",
      "    callback(*args, **kwargs)\n",
      "  File \"C:\\Users\\Du0X\\Anaconda2\\envs\\rosabot\\lib\\site-packages\\tornado\\stack_context.py\", line 277, in null_wrapper\n",
      "    return fn(*args, **kwargs)\n",
      "  File \"C:\\Users\\Du0X\\Anaconda2\\envs\\rosabot\\lib\\site-packages\\ipykernel\\kernelbase.py\", line 283, in dispatcher\n",
      "    return self.dispatch_shell(stream, msg)\n",
      "  File \"C:\\Users\\Du0X\\Anaconda2\\envs\\rosabot\\lib\\site-packages\\ipykernel\\kernelbase.py\", line 235, in dispatch_shell\n",
      "    handler(stream, idents, msg)\n",
      "  File \"C:\\Users\\Du0X\\Anaconda2\\envs\\rosabot\\lib\\site-packages\\ipykernel\\kernelbase.py\", line 421, in execute_request\n",
      "    self._abort_queues()\n",
      "  File \"C:\\Users\\Du0X\\Anaconda2\\envs\\rosabot\\lib\\site-packages\\ipykernel\\kernelbase.py\", line 637, in _abort_queues\n",
      "    self._abort_queue(stream)\n",
      "  File \"C:\\Users\\Du0X\\Anaconda2\\envs\\rosabot\\lib\\site-packages\\ipykernel\\kernelbase.py\", line 662, in _abort_queue\n",
      "    poller.poll(50)\n",
      "  File \"C:\\Users\\Du0X\\Anaconda2\\envs\\rosabot\\lib\\site-packages\\zmq\\sugar\\poll.py\", line 99, in poll\n",
      "    return zmq_poll(self.sockets, timeout=timeout)\n",
      "  File \"zmq/backend/cython/_poll.pyx\", line 116, in zmq.backend.cython._poll.zmq_poll (zmq\\backend\\cython\\_poll.c:2036)\n",
      "  File \"zmq/backend/cython/checkrc.pxd\", line 12, in zmq.backend.cython.checkrc._check_rc (zmq\\backend\\cython\\_poll.c:2418)\n",
      "KeyboardInterrupt\n"
     ]
    }
   ],
   "source": [
    "def get_random_id():\n",
    "    return random.randint(0, 2)\n",
    "\n",
    "def get_new_id():\n",
    "    random_id = get_random_id()\n",
    "    while complaint.find_one({\"_id\": random_id}):\n",
    "        random_id = get_random_id()\n",
    "        \n",
    "    new_id = complaint.insert_one({\"_id\": random_id}).inserted_id\n",
    "    \n",
    "    return new_id\n",
    "\n",
    "get_new_id()"
   ]
  },
  {
   "cell_type": "code",
   "execution_count": 34,
   "metadata": {
    "collapsed": true
   },
   "outputs": [],
   "source": [
    "import datetime\n",
    "\n",
    "musica = {\n",
    "              \"nome\": \"Nothing left to say\",\n",
    "              \"banda\": \"Imagine Dragons\",\n",
    "              \"categorias\": [\"indie\", \"rock\"],\n",
    "              \"lancamento\": datetime.datetime.now()\n",
    "             }"
   ]
  },
  {
   "cell_type": "code",
   "execution_count": 35,
   "metadata": {},
   "outputs": [
    {
     "data": {
      "text/plain": [
       "ObjectId('5bf72d7ab0f61528c843a431')"
      ]
     },
     "execution_count": 35,
     "metadata": {},
     "output_type": "execute_result"
    }
   ],
   "source": [
    "album = banco.album\n",
    "musica_id = album.insert_one(musica).inserted_id\n",
    "musica_id"
   ]
  },
  {
   "cell_type": "code",
   "execution_count": 36,
   "metadata": {
    "collapsed": true
   },
   "outputs": [],
   "source": [
    "import datetime\n",
    "\n",
    "musica = {\n",
    "              \"_id\": 12345,\n",
    "              \"nome\": \"Nothing lef to say\",\n",
    "              \"banda\": \"Imagine Dragons\",\n",
    "              \"categorias\": [\"indie\", \"rock\"],\n",
    "              \"lancamento\": datetime.datetime.now()\n",
    "             }"
   ]
  },
  {
   "cell_type": "code",
   "execution_count": 37,
   "metadata": {},
   "outputs": [
    {
     "ename": "BulkWriteError",
     "evalue": "batch op errors occurred",
     "output_type": "error",
     "traceback": [
      "\u001b[1;31m---------------------------------------------------------------------------\u001b[0m",
      "\u001b[1;31mBulkWriteError\u001b[0m                            Traceback (most recent call last)",
      "\u001b[1;32m<ipython-input-37-fdd286137664>\u001b[0m in \u001b[0;36m<module>\u001b[1;34m()\u001b[0m\n\u001b[0;32m     37\u001b[0m               ]\n\u001b[0;32m     38\u001b[0m \u001b[1;33m\u001b[0m\u001b[0m\n\u001b[1;32m---> 39\u001b[1;33m \u001b[0malbum\u001b[0m\u001b[1;33m.\u001b[0m\u001b[0minsert_many\u001b[0m\u001b[1;33m(\u001b[0m\u001b[0mmusicas\u001b[0m\u001b[1;33m)\u001b[0m\u001b[1;33m\u001b[0m\u001b[0m\n\u001b[0m",
      "\u001b[1;32m~\\Anaconda2\\envs\\rosabot\\lib\\site-packages\\pymongo\\collection.py\u001b[0m in \u001b[0;36minsert_many\u001b[1;34m(self, documents, ordered, bypass_document_validation, session)\u001b[0m\n\u001b[0;32m    751\u001b[0m         \u001b[0mblk\u001b[0m \u001b[1;33m=\u001b[0m \u001b[0m_Bulk\u001b[0m\u001b[1;33m(\u001b[0m\u001b[0mself\u001b[0m\u001b[1;33m,\u001b[0m \u001b[0mordered\u001b[0m\u001b[1;33m,\u001b[0m \u001b[0mbypass_document_validation\u001b[0m\u001b[1;33m)\u001b[0m\u001b[1;33m\u001b[0m\u001b[0m\n\u001b[0;32m    752\u001b[0m         \u001b[0mblk\u001b[0m\u001b[1;33m.\u001b[0m\u001b[0mops\u001b[0m \u001b[1;33m=\u001b[0m \u001b[1;33m[\u001b[0m\u001b[0mdoc\u001b[0m \u001b[1;32mfor\u001b[0m \u001b[0mdoc\u001b[0m \u001b[1;32min\u001b[0m \u001b[0mgen\u001b[0m\u001b[1;33m(\u001b[0m\u001b[1;33m)\u001b[0m\u001b[1;33m]\u001b[0m\u001b[1;33m\u001b[0m\u001b[0m\n\u001b[1;32m--> 753\u001b[1;33m         \u001b[0mblk\u001b[0m\u001b[1;33m.\u001b[0m\u001b[0mexecute\u001b[0m\u001b[1;33m(\u001b[0m\u001b[0mwrite_concern\u001b[0m\u001b[1;33m,\u001b[0m \u001b[0msession\u001b[0m\u001b[1;33m=\u001b[0m\u001b[0msession\u001b[0m\u001b[1;33m)\u001b[0m\u001b[1;33m\u001b[0m\u001b[0m\n\u001b[0m\u001b[0;32m    754\u001b[0m         \u001b[1;32mreturn\u001b[0m \u001b[0mInsertManyResult\u001b[0m\u001b[1;33m(\u001b[0m\u001b[0minserted_ids\u001b[0m\u001b[1;33m,\u001b[0m \u001b[0mwrite_concern\u001b[0m\u001b[1;33m.\u001b[0m\u001b[0macknowledged\u001b[0m\u001b[1;33m)\u001b[0m\u001b[1;33m\u001b[0m\u001b[0m\n\u001b[0;32m    755\u001b[0m \u001b[1;33m\u001b[0m\u001b[0m\n",
      "\u001b[1;32m~\\Anaconda2\\envs\\rosabot\\lib\\site-packages\\pymongo\\bulk.py\u001b[0m in \u001b[0;36mexecute\u001b[1;34m(self, write_concern, session)\u001b[0m\n\u001b[0;32m    519\u001b[0m                 \u001b[0mself\u001b[0m\u001b[1;33m.\u001b[0m\u001b[0mexecute_no_results\u001b[0m\u001b[1;33m(\u001b[0m\u001b[0msock_info\u001b[0m\u001b[1;33m,\u001b[0m \u001b[0mgenerator\u001b[0m\u001b[1;33m)\u001b[0m\u001b[1;33m\u001b[0m\u001b[0m\n\u001b[0;32m    520\u001b[0m         \u001b[1;32melse\u001b[0m\u001b[1;33m:\u001b[0m\u001b[1;33m\u001b[0m\u001b[0m\n\u001b[1;32m--> 521\u001b[1;33m             \u001b[1;32mreturn\u001b[0m \u001b[0mself\u001b[0m\u001b[1;33m.\u001b[0m\u001b[0mexecute_command\u001b[0m\u001b[1;33m(\u001b[0m\u001b[0mgenerator\u001b[0m\u001b[1;33m,\u001b[0m \u001b[0mwrite_concern\u001b[0m\u001b[1;33m,\u001b[0m \u001b[0msession\u001b[0m\u001b[1;33m)\u001b[0m\u001b[1;33m\u001b[0m\u001b[0m\n\u001b[0m\u001b[0;32m    522\u001b[0m \u001b[1;33m\u001b[0m\u001b[0m\n\u001b[0;32m    523\u001b[0m \u001b[1;33m\u001b[0m\u001b[0m\n",
      "\u001b[1;32m~\\Anaconda2\\envs\\rosabot\\lib\\site-packages\\pymongo\\bulk.py\u001b[0m in \u001b[0;36mexecute_command\u001b[1;34m(self, generator, write_concern, session)\u001b[0m\n\u001b[0;32m    347\u001b[0m \u001b[1;33m\u001b[0m\u001b[0m\n\u001b[0;32m    348\u001b[0m         \u001b[1;32mif\u001b[0m \u001b[0mfull_result\u001b[0m\u001b[1;33m[\u001b[0m\u001b[1;34m\"writeErrors\"\u001b[0m\u001b[1;33m]\u001b[0m \u001b[1;32mor\u001b[0m \u001b[0mfull_result\u001b[0m\u001b[1;33m[\u001b[0m\u001b[1;34m\"writeConcernErrors\"\u001b[0m\u001b[1;33m]\u001b[0m\u001b[1;33m:\u001b[0m\u001b[1;33m\u001b[0m\u001b[0m\n\u001b[1;32m--> 349\u001b[1;33m             \u001b[0m_raise_bulk_write_error\u001b[0m\u001b[1;33m(\u001b[0m\u001b[0mfull_result\u001b[0m\u001b[1;33m)\u001b[0m\u001b[1;33m\u001b[0m\u001b[0m\n\u001b[0m\u001b[0;32m    350\u001b[0m         \u001b[1;32mreturn\u001b[0m \u001b[0mfull_result\u001b[0m\u001b[1;33m\u001b[0m\u001b[0m\n\u001b[0;32m    351\u001b[0m \u001b[1;33m\u001b[0m\u001b[0m\n",
      "\u001b[1;32m~\\Anaconda2\\envs\\rosabot\\lib\\site-packages\\pymongo\\bulk.py\u001b[0m in \u001b[0;36m_raise_bulk_write_error\u001b[1;34m(full_result)\u001b[0m\n\u001b[0;32m    138\u001b[0m         full_result[\"writeErrors\"].sort(\n\u001b[0;32m    139\u001b[0m             key=lambda error: error[\"index\"])\n\u001b[1;32m--> 140\u001b[1;33m     \u001b[1;32mraise\u001b[0m \u001b[0mBulkWriteError\u001b[0m\u001b[1;33m(\u001b[0m\u001b[0mfull_result\u001b[0m\u001b[1;33m)\u001b[0m\u001b[1;33m\u001b[0m\u001b[0m\n\u001b[0m\u001b[0;32m    141\u001b[0m \u001b[1;33m\u001b[0m\u001b[0m\n\u001b[0;32m    142\u001b[0m \u001b[1;33m\u001b[0m\u001b[0m\n",
      "\u001b[1;31mBulkWriteError\u001b[0m: batch op errors occurred"
     ]
    }
   ],
   "source": [
    "musicas = [\n",
    "                  {\n",
    "                    \"_id\": 1,\n",
    "                    \"nome\": \"Radioactive\",\n",
    "                    \"banda\": \"Imagine Dragons\",\n",
    "                    \"categorias\": [\"indie\", \"rock\"],\n",
    "                    \"lancamento\": datetime.datetime.now()\n",
    "                  },\n",
    "                  {\n",
    "                    \"_id\": 2,\n",
    "                    \"nome\": \"Hear Me\",\n",
    "                    \"banda\": \"Imagine Dragons\",\n",
    "                    \"categorias\": [\"indie\", \"rock\"],\n",
    "                    \"lancamento\": datetime.datetime.now()\n",
    "                  },\n",
    "                  {\n",
    "                    \"_id\": 3,\n",
    "                    \"nome\": \"Demons\",\n",
    "                    \"banda\": \"Imagine Dragons\",\n",
    "                    \"categorias\": [\"indie\", \"rock\"],\n",
    "                    \"lancamento\": datetime.datetime.now()\n",
    "                  },\n",
    "                  {\n",
    "                    \"_id\": 4,\n",
    "                    \"nome\": \"Nothing Left To Say\",\n",
    "                    \"banda\": \"Imagine Dragons\",\n",
    "                    \"categorias\": [\"indie\", \"rock\"],\n",
    "                    \"lancamento\": datetime.datetime.now()\n",
    "                  },\n",
    "                  {\n",
    "                    \"_id\": 5,\n",
    "                    \"nome\": \"Amsterdam\",\n",
    "                    \"banda\": \"Imagine Dragons\",\n",
    "                    \"categorias\": [\"indie\", \"rock\"],\n",
    "                    \"lancamento\": datetime.datetime.now()\n",
    "                  }\n",
    "              ]\n",
    "\n",
    "album.insert_many(musicas)"
   ]
  },
  {
   "cell_type": "code",
   "execution_count": 38,
   "metadata": {},
   "outputs": [
    {
     "data": {
      "text/plain": [
       "{'_id': ObjectId('5bf72a81b0f61528c843a42d'),\n",
       " 'banda': 'Imagine Dragons',\n",
       " 'categorias': ['indie', 'rock'],\n",
       " 'lancamento': datetime.datetime(2018, 11, 22, 20, 15, 29, 438000),\n",
       " 'nome': 'Nothing left to say'}"
      ]
     },
     "execution_count": 38,
     "metadata": {},
     "output_type": "execute_result"
    }
   ],
   "source": [
    "album.find_one()"
   ]
  },
  {
   "cell_type": "code",
   "execution_count": 21,
   "metadata": {
    "collapsed": true
   },
   "outputs": [],
   "source": [
    "album.find_one()"
   ]
  },
  {
   "cell_type": "code",
   "execution_count": 10,
   "metadata": {},
   "outputs": [
    {
     "data": {
      "text/plain": [
       "{'_id': 1}"
      ]
     },
     "execution_count": 10,
     "metadata": {},
     "output_type": "execute_result"
    }
   ],
   "source": [
    "complaint.find_one({\"_id\": 1})"
   ]
  },
  {
   "cell_type": "code",
   "execution_count": 47,
   "metadata": {},
   "outputs": [
    {
     "name": "stdout",
     "output_type": "stream",
     "text": [
      "False\n"
     ]
    }
   ],
   "source": [
    "print(bool(album.find_one({\"_id\": 6})))"
   ]
  },
  {
   "cell_type": "code",
   "execution_count": 17,
   "metadata": {},
   "outputs": [
    {
     "name": "stderr",
     "output_type": "stream",
     "text": [
      "C:\\Users\\du0x\\Anaconda2\\envs\\rosabot\\lib\\site-packages\\ipykernel_launcher.py:1: DeprecationWarning: count is deprecated. Use estimated_document_count or count_documents instead. Please note that $where must be replaced by $expr, $near must be replaced by $geoWithin with $center, and $nearSphere must be replaced by $geoWithin with $centerSphere\n",
      "  \"\"\"Entry point for launching an IPython kernel.\n"
     ]
    }
   ],
   "source": [
    "for musica_id in range(album.count()):\n",
    "    album.find_one({\"_id\": musica_id})"
   ]
  },
  {
   "cell_type": "code",
   "execution_count": 12,
   "metadata": {},
   "outputs": [
    {
     "ename": "TypeError",
     "evalue": "'UpdateResult' object is not iterable",
     "output_type": "error",
     "traceback": [
      "\u001b[1;31m---------------------------------------------------------------------------\u001b[0m",
      "\u001b[1;31mTypeError\u001b[0m                                 Traceback (most recent call last)",
      "\u001b[1;32m<ipython-input-12-7fa012a625cd>\u001b[0m in \u001b[0;36m<module>\u001b[1;34m()\u001b[0m\n\u001b[1;32m----> 1\u001b[1;33m \u001b[0mlist\u001b[0m\u001b[1;33m(\u001b[0m\u001b[0mcomplaint\u001b[0m\u001b[1;33m.\u001b[0m\u001b[0mupdate_one\u001b[0m\u001b[1;33m(\u001b[0m\u001b[1;33m{\u001b[0m\u001b[1;34m'_id'\u001b[0m\u001b[1;33m:\u001b[0m \u001b[1;36m0\u001b[0m\u001b[1;33m}\u001b[0m\u001b[1;33m,\u001b[0m \u001b[1;33m{\u001b[0m\u001b[1;34m'$set'\u001b[0m\u001b[1;33m:\u001b[0m \u001b[1;33m{\u001b[0m\u001b[1;34m'nome'\u001b[0m\u001b[1;33m:\u001b[0m\u001b[1;34m'Novo nome'\u001b[0m\u001b[1;33m}\u001b[0m\u001b[1;33m}\u001b[0m\u001b[1;33m)\u001b[0m\u001b[1;33m)\u001b[0m\u001b[1;33m\u001b[0m\u001b[0m\n\u001b[0m",
      "\u001b[1;31mTypeError\u001b[0m: 'UpdateResult' object is not iterable"
     ]
    }
   ],
   "source": [
    "complaint.update_one({'_id': 0}, {'$set': {'nome':'Novo nome'}})"
   ]
  },
  {
   "cell_type": "code",
   "execution_count": 19,
   "metadata": {},
   "outputs": [
    {
     "data": {
      "text/plain": [
       "<pymongo.results.UpdateResult at 0x5411b48>"
      ]
     },
     "execution_count": 19,
     "metadata": {},
     "output_type": "execute_result"
    }
   ],
   "source": [
    "album.update_many({'banda': 'Imagine Dragons'}, {'$set': {'nome':'Novo nome'}})"
   ]
  },
  {
   "cell_type": "code",
   "execution_count": 20,
   "metadata": {},
   "outputs": [
    {
     "data": {
      "text/plain": [
       "<pymongo.results.DeleteResult at 0x51e0f88>"
      ]
     },
     "execution_count": 20,
     "metadata": {},
     "output_type": "execute_result"
    }
   ],
   "source": [
    "album.delete_one({\"_id\": 1})"
   ]
  },
  {
   "cell_type": "code",
   "execution_count": 21,
   "metadata": {},
   "outputs": [
    {
     "data": {
      "text/plain": [
       "<pymongo.results.DeleteResult at 0x4e2e048>"
      ]
     },
     "execution_count": 21,
     "metadata": {},
     "output_type": "execute_result"
    }
   ],
   "source": [
    "album.delete_many({\"banda\": \"Imagine Dragons\"})"
   ]
  },
  {
   "cell_type": "code",
   "execution_count": null,
   "metadata": {
    "collapsed": true
   },
   "outputs": [],
   "source": []
  }
 ],
 "metadata": {
  "kernelspec": {
   "display_name": "Python 3",
   "language": "python",
   "name": "python3"
  },
  "language_info": {
   "codemirror_mode": {
    "name": "ipython",
    "version": 3
   },
   "file_extension": ".py",
   "mimetype": "text/x-python",
   "name": "python",
   "nbconvert_exporter": "python",
   "pygments_lexer": "ipython3",
   "version": "3.6.2"
  }
 },
 "nbformat": 4,
 "nbformat_minor": 2
}
