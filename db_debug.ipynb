{
 "cells": [
  {
   "cell_type": "code",
   "execution_count": 1,
   "metadata": {},
   "outputs": [],
   "source": [
    "from pymongo import MongoClient"
   ]
  },
  {
   "cell_type": "code",
   "execution_count": 2,
   "metadata": {},
   "outputs": [],
   "source": [
    "cliente = MongoClient('localhost', 27017)"
   ]
  },
  {
   "cell_type": "code",
   "execution_count": 6,
   "metadata": {},
   "outputs": [],
   "source": [
    "banco = cliente.test_database\n",
    "banco = cliente['test-database']"
   ]
  },
  {
   "cell_type": "code",
   "execution_count": 7,
   "metadata": {},
   "outputs": [],
   "source": [
    "album = banco.test_collection\n",
    "album = banco['test-collection']"
   ]
  },
  {
   "cell_type": "code",
   "execution_count": 8,
   "metadata": {},
   "outputs": [],
   "source": [
    "import datetime\n",
    "\n",
    "musica = {\n",
    "              \"nome\": \"Nothing left to say\",\n",
    "              \"banda\": \"Imagine Dragons\",\n",
    "              \"categorias\": [\"indie\", \"rock\"],\n",
    "              \"lancamento\": datetime.datetime.now()\n",
    "             }"
   ]
  },
  {
   "cell_type": "code",
   "execution_count": 12,
   "metadata": {},
   "outputs": [
    {
     "data": {
      "text/plain": [
       "12345"
      ]
     },
     "execution_count": 12,
     "metadata": {},
     "output_type": "execute_result"
    }
   ],
   "source": [
    "album = banco.album\n",
    "musica_id = album.insert_one(musica).inserted_id\n",
    "musica_id"
   ]
  },
  {
   "cell_type": "code",
   "execution_count": 11,
   "metadata": {},
   "outputs": [],
   "source": [
    "import datetime\n",
    "\n",
    "musica = {\n",
    "              \"_id\": 12345,\n",
    "              \"nome\": \"Nothing lef to say\",\n",
    "              \"banda\": \"Imagine Dragons\",\n",
    "              \"categorias\": [\"indie\", \"rock\"],\n",
    "              \"lancamento\": datetime.datetime.now()\n",
    "             }"
   ]
  },
  {
   "cell_type": "code",
   "execution_count": 13,
   "metadata": {},
   "outputs": [
    {
     "data": {
      "text/plain": [
       "<pymongo.results.InsertManyResult at 0x521ce48>"
      ]
     },
     "execution_count": 13,
     "metadata": {},
     "output_type": "execute_result"
    }
   ],
   "source": [
    "musicas = [\n",
    "                  {\n",
    "                    \"_id\": 1,\n",
    "                    \"nome\": \"Radioactive\",\n",
    "                    \"banda\": \"Imagine Dragons\",\n",
    "                    \"categorias\": [\"indie\", \"rock\"],\n",
    "                    \"lancamento\": datetime.datetime.now()\n",
    "                  },\n",
    "                  {\n",
    "                    \"_id\": 2,\n",
    "                    \"nome\": \"Hear Me\",\n",
    "                    \"banda\": \"Imagine Dragons\",\n",
    "                    \"categorias\": [\"indie\", \"rock\"],\n",
    "                    \"lancamento\": datetime.datetime.now()\n",
    "                  },\n",
    "                  {\n",
    "                    \"_id\": 3,\n",
    "                    \"nome\": \"Demons\",\n",
    "                    \"banda\": \"Imagine Dragons\",\n",
    "                    \"categorias\": [\"indie\", \"rock\"],\n",
    "                    \"lancamento\": datetime.datetime.now()\n",
    "                  },\n",
    "                  {\n",
    "                    \"_id\": 4,\n",
    "                    \"nome\": \"Nothing Left To Say\",\n",
    "                    \"banda\": \"Imagine Dragons\",\n",
    "                    \"categorias\": [\"indie\", \"rock\"],\n",
    "                    \"lancamento\": datetime.datetime.now()\n",
    "                  },\n",
    "                  {\n",
    "                    \"_id\": 5,\n",
    "                    \"nome\": \"Amsterdam\",\n",
    "                    \"banda\": \"Imagine Dragons\",\n",
    "                    \"categorias\": [\"indie\", \"rock\"],\n",
    "                    \"lancamento\": datetime.datetime.now()\n",
    "                  }\n",
    "              ]\n",
    "\n",
    "album.insert_many(musicas)"
   ]
  },
  {
   "cell_type": "code",
   "execution_count": 14,
   "metadata": {},
   "outputs": [
    {
     "data": {
      "text/plain": [
       "{'_id': ObjectId('5bf6fd3785a9ab0ef8de3aa1'),\n",
       " 'nome': 'Nothing left to say',\n",
       " 'banda': 'Imagine Dragons',\n",
       " 'categorias': ['indie', 'rock'],\n",
       " 'lancamento': datetime.datetime(2018, 11, 22, 17, 1, 42, 468000)}"
      ]
     },
     "execution_count": 14,
     "metadata": {},
     "output_type": "execute_result"
    }
   ],
   "source": [
    "album.find_one()"
   ]
  },
  {
   "cell_type": "code",
   "execution_count": 15,
   "metadata": {},
   "outputs": [
    {
     "data": {
      "text/plain": [
       "{'_id': 1,\n",
       " 'nome': 'Radioactive',\n",
       " 'banda': 'Imagine Dragons',\n",
       " 'categorias': ['indie', 'rock'],\n",
       " 'lancamento': datetime.datetime(2018, 11, 22, 17, 3, 5, 736000)}"
      ]
     },
     "execution_count": 15,
     "metadata": {},
     "output_type": "execute_result"
    }
   ],
   "source": [
    "album.find_one({\"nome\": \"Radioactive\"})"
   ]
  },
  {
   "cell_type": "code",
   "execution_count": 16,
   "metadata": {},
   "outputs": [
    {
     "data": {
      "text/plain": [
       "{'_id': 1,\n",
       " 'nome': 'Radioactive',\n",
       " 'banda': 'Imagine Dragons',\n",
       " 'categorias': ['indie', 'rock'],\n",
       " 'lancamento': datetime.datetime(2018, 11, 22, 17, 3, 5, 736000)}"
      ]
     },
     "execution_count": 16,
     "metadata": {},
     "output_type": "execute_result"
    }
   ],
   "source": [
    "album.find_one({\"_id\": 1})"
   ]
  },
  {
   "cell_type": "code",
   "execution_count": 17,
   "metadata": {},
   "outputs": [
    {
     "name": "stderr",
     "output_type": "stream",
     "text": [
      "C:\\Users\\du0x\\Anaconda2\\envs\\rosabot\\lib\\site-packages\\ipykernel_launcher.py:1: DeprecationWarning: count is deprecated. Use estimated_document_count or count_documents instead. Please note that $where must be replaced by $expr, $near must be replaced by $geoWithin with $center, and $nearSphere must be replaced by $geoWithin with $centerSphere\n",
      "  \"\"\"Entry point for launching an IPython kernel.\n"
     ]
    }
   ],
   "source": [
    "for musica_id in range(album.count()):\n",
    "    album.find_one({\"_id\": musica_id})"
   ]
  },
  {
   "cell_type": "code",
   "execution_count": 18,
   "metadata": {},
   "outputs": [
    {
     "data": {
      "text/plain": [
       "<pymongo.results.UpdateResult at 0x5201bc8>"
      ]
     },
     "execution_count": 18,
     "metadata": {},
     "output_type": "execute_result"
    }
   ],
   "source": [
    "album.update_one({'_id': 2}, {'$set': {'nome':'Novo nome'}})"
   ]
  },
  {
   "cell_type": "code",
   "execution_count": 19,
   "metadata": {},
   "outputs": [
    {
     "data": {
      "text/plain": [
       "<pymongo.results.UpdateResult at 0x5411b48>"
      ]
     },
     "execution_count": 19,
     "metadata": {},
     "output_type": "execute_result"
    }
   ],
   "source": [
    "album.update_many({'banda': 'Imagine Dragons'}, {'$set': {'nome':'Novo nome'}})"
   ]
  },
  {
   "cell_type": "code",
   "execution_count": 20,
   "metadata": {},
   "outputs": [
    {
     "data": {
      "text/plain": [
       "<pymongo.results.DeleteResult at 0x51e0f88>"
      ]
     },
     "execution_count": 20,
     "metadata": {},
     "output_type": "execute_result"
    }
   ],
   "source": [
    "album.delete_one({\"_id\": 1})"
   ]
  },
  {
   "cell_type": "code",
   "execution_count": 21,
   "metadata": {},
   "outputs": [
    {
     "data": {
      "text/plain": [
       "<pymongo.results.DeleteResult at 0x4e2e048>"
      ]
     },
     "execution_count": 21,
     "metadata": {},
     "output_type": "execute_result"
    }
   ],
   "source": [
    "album.delete_many({\"banda\": \"Imagine Dragons\"})"
   ]
  },
  {
   "cell_type": "code",
   "execution_count": null,
   "metadata": {},
   "outputs": [],
   "source": []
  }
 ],
 "metadata": {
  "kernelspec": {
   "display_name": "Python 3",
   "language": "python",
   "name": "python3"
  },
  "language_info": {
   "codemirror_mode": {
    "name": "ipython",
    "version": 3
   },
   "file_extension": ".py",
   "mimetype": "text/x-python",
   "name": "python",
   "nbconvert_exporter": "python",
   "pygments_lexer": "ipython3",
   "version": "3.7.1"
  }
 },
 "nbformat": 4,
 "nbformat_minor": 2
}
